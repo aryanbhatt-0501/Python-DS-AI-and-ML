{
 "cells": [
  {
   "cell_type": "code",
   "execution_count": 12,
   "id": "c41ceb7f-77da-4f4d-b354-0c9f03f8a441",
   "metadata": {},
   "outputs": [
    {
     "name": "stdout",
     "output_type": "stream",
     "text": [
      "[2, 3, 5, 7, 11, 13, 17, 19, 23, 29, 31, 37, 41, 43, 47, 53, 59, 61, 67, 71, 73, 79, 83, 89, 97]\n",
      "25\n"
     ]
    }
   ],
   "source": [
    "primes = [];\n",
    "for i in range(2,101):\n",
    "    prime = True;\n",
    "    for j in range(2,i):\n",
    "        if (i%j == 0):\n",
    "            prime=False;\n",
    "            break;\n",
    "    if prime:\n",
    "        primes.append(i);\n",
    "print(primes);\n",
    "print(len(primes));"
   ]
  },
  {
   "cell_type": "code",
   "execution_count": 10,
   "id": "599c1c36-21a9-45e8-81b2-778a0acd997a",
   "metadata": {},
   "outputs": [
    {
     "name": "stdout",
     "output_type": "stream",
     "text": [
      "ecneicS ataD\n"
     ]
    }
   ],
   "source": [
    "word = 'Data Science'\n",
    "result = '';\n",
    "for i in range(len(word) - 1, -1, -1):\n",
    "    result += word[i]\n",
    "print(result)"
   ]
  },
  {
   "cell_type": "code",
   "execution_count": 60,
   "id": "664956ed-2c4e-4d2e-938c-4e19e2bba807",
   "metadata": {},
   "outputs": [
    {
     "name": "stdin",
     "output_type": "stream",
     "text": [
      "Give a string aryan\n"
     ]
    },
    {
     "name": "stdout",
     "output_type": "stream",
     "text": [
      "1\n"
     ]
    }
   ],
   "source": [
    "inp = input('Give a string')\n",
    "all = [];\n",
    "for char in inp:\n",
    "    if (char not in 'my_string' and char not in all):\n",
    "        all.append(char);\n",
    "print(len(all))"
   ]
  },
  {
   "cell_type": "code",
   "execution_count": 68,
   "id": "4575dfe9-f750-4dd9-bfbf-dbfd971f1f3b",
   "metadata": {},
   "outputs": [],
   "source": [
    "def checkRange(n):\n",
    "    if (n >= 1000 and n <= 10000):\n",
    "        return True;\n",
    "    else:\n",
    "        return False;"
   ]
  },
  {
   "cell_type": "code",
   "execution_count": 76,
   "id": "0812f889-448e-4ac8-b53b-8d78e2e0b9ed",
   "metadata": {},
   "outputs": [
    {
     "name": "stdout",
     "output_type": "stream",
     "text": [
      "False\n",
      "True\n"
     ]
    }
   ],
   "source": [
    "print(checkRange(519))\n",
    "print(checkRange(5191))"
   ]
  },
  {
   "cell_type": "code",
   "execution_count": 78,
   "id": "95c2d7cb-3428-43d3-8e8a-9b313a917ebd",
   "metadata": {},
   "outputs": [
    {
     "name": "stdout",
     "output_type": "stream",
     "text": [
      "15 HAPPY!\n"
     ]
    }
   ],
   "source": [
    "pp=str(int(7+8.0));\n",
    "print(pp + ' happy'.upper() + '!');"
   ]
  },
  {
   "cell_type": "code",
   "execution_count": 80,
   "id": "c72415db-c2fe-4eaf-91aa-3ed15aa899c2",
   "metadata": {},
   "outputs": [
    {
     "name": "stdout",
     "output_type": "stream",
     "text": [
      "Python programs "
     ]
    }
   ],
   "source": [
    "print('Python programs', end=' ')"
   ]
  },
  {
   "cell_type": "code",
   "execution_count": 88,
   "id": "66c98178-bb07-4dc9-9142-20942dd90bb1",
   "metadata": {},
   "outputs": [
    {
     "name": "stdout",
     "output_type": "stream",
     "text": [
      "value of e is %0.1f 2.713\n"
     ]
    }
   ],
   "source": [
    "print('value of e is %0.1f', 2.713);"
   ]
  },
  {
   "cell_type": "code",
   "execution_count": 90,
   "id": "7d9f00f3-d7df-481d-999e-ad93d5095e45",
   "metadata": {},
   "outputs": [
    {
     "name": "stdout",
     "output_type": "stream",
     "text": [
      "value of e is 2.7\n"
     ]
    }
   ],
   "source": [
    "print('value of e is %0.1f' %2.713);"
   ]
  },
  {
   "cell_type": "code",
   "execution_count": 94,
   "id": "bd9697bc-9f78-40a6-9d82-18048283ba19",
   "metadata": {},
   "outputs": [
    {
     "name": "stdout",
     "output_type": "stream",
     "text": [
      "Programming in python version 3\n"
     ]
    }
   ],
   "source": [
    "print('Programming in python version %d' %3.5);"
   ]
  },
  {
   "cell_type": "code",
   "execution_count": 100,
   "id": "206f7d89-59da-4530-b6bf-ff7390ae4b37",
   "metadata": {},
   "outputs": [
    {
     "name": "stdout",
     "output_type": "stream",
     "text": [
      "Python 3.0 is also known as Python : 3000\n"
     ]
    }
   ],
   "source": [
    "print(\"%20s : %d\" % (\"Python 3.0 is also known as Python\", 3000.57));"
   ]
  },
  {
   "cell_type": "code",
   "execution_count": 14,
   "id": "49f76a92-b017-4e64-bfd8-051ed845bb51",
   "metadata": {},
   "outputs": [
    {
     "name": "stdout",
     "output_type": "stream",
     "text": [
      " 2   4    8\n"
     ]
    }
   ],
   "source": [
    "x = 2\n",
    "print(\"{0:2d} {1:3d} {2:4d}\".format(x, x*x, x*x*x));"
   ]
  },
  {
   "cell_type": "code",
   "execution_count": 16,
   "id": "90497eee-0824-4723-bec4-16e5e4f49ee0",
   "metadata": {},
   "outputs": [
    {
     "name": "stdout",
     "output_type": "stream",
     "text": [
      "1900 is a leap year\n",
      "1901 is not a leap year\n",
      "1902 is not a leap year\n",
      "1903 is not a leap year\n",
      "1904 is a leap year\n",
      "1905 is not a leap year\n",
      "1906 is not a leap year\n",
      "1907 is not a leap year\n",
      "1908 is a leap year\n",
      "1909 is not a leap year\n",
      "1910 is not a leap year\n",
      "1911 is not a leap year\n",
      "1912 is a leap year\n",
      "1913 is not a leap year\n",
      "1914 is not a leap year\n",
      "1915 is not a leap year\n",
      "1916 is a leap year\n",
      "1917 is not a leap year\n",
      "1918 is not a leap year\n",
      "1919 is not a leap year\n",
      "1920 is a leap year\n",
      "1921 is not a leap year\n",
      "1922 is not a leap year\n",
      "1923 is not a leap year\n",
      "1924 is a leap year\n",
      "1925 is not a leap year\n",
      "1926 is not a leap year\n",
      "1927 is not a leap year\n",
      "1928 is a leap year\n",
      "1929 is not a leap year\n",
      "1930 is not a leap year\n",
      "1931 is not a leap year\n",
      "1932 is a leap year\n",
      "1933 is not a leap year\n",
      "1934 is not a leap year\n",
      "1935 is not a leap year\n",
      "1936 is a leap year\n",
      "1937 is not a leap year\n",
      "1938 is not a leap year\n",
      "1939 is not a leap year\n",
      "1940 is a leap year\n",
      "1941 is not a leap year\n",
      "1942 is not a leap year\n",
      "1943 is not a leap year\n",
      "1944 is a leap year\n",
      "1945 is not a leap year\n",
      "1946 is not a leap year\n",
      "1947 is not a leap year\n",
      "1948 is a leap year\n",
      "1949 is not a leap year\n",
      "1950 is not a leap year\n",
      "1951 is not a leap year\n",
      "1952 is a leap year\n",
      "1953 is not a leap year\n",
      "1954 is not a leap year\n",
      "1955 is not a leap year\n",
      "1956 is a leap year\n",
      "1957 is not a leap year\n",
      "1958 is not a leap year\n",
      "1959 is not a leap year\n",
      "1960 is a leap year\n",
      "1961 is not a leap year\n",
      "1962 is not a leap year\n",
      "1963 is not a leap year\n",
      "1964 is a leap year\n",
      "1965 is not a leap year\n",
      "1966 is not a leap year\n",
      "1967 is not a leap year\n",
      "1968 is a leap year\n",
      "1969 is not a leap year\n",
      "1970 is not a leap year\n",
      "1971 is not a leap year\n",
      "1972 is a leap year\n",
      "1973 is not a leap year\n",
      "1974 is not a leap year\n",
      "1975 is not a leap year\n",
      "1976 is a leap year\n",
      "1977 is not a leap year\n",
      "1978 is not a leap year\n",
      "1979 is not a leap year\n",
      "1980 is a leap year\n",
      "1981 is not a leap year\n",
      "1982 is not a leap year\n",
      "1983 is not a leap year\n",
      "1984 is a leap year\n",
      "1985 is not a leap year\n",
      "1986 is not a leap year\n",
      "1987 is not a leap year\n",
      "1988 is a leap year\n",
      "1989 is not a leap year\n",
      "1990 is not a leap year\n",
      "1991 is not a leap year\n",
      "1992 is a leap year\n",
      "1993 is not a leap year\n",
      "1994 is not a leap year\n",
      "1995 is not a leap year\n",
      "1996 is a leap year\n",
      "1997 is not a leap year\n",
      "1998 is not a leap year\n",
      "1999 is not a leap year\n",
      "2000 is a leap year\n",
      "2001 is not a leap year\n",
      "2002 is not a leap year\n",
      "2003 is not a leap year\n",
      "2004 is a leap year\n",
      "2005 is not a leap year\n",
      "2006 is not a leap year\n",
      "2007 is not a leap year\n",
      "2008 is a leap year\n",
      "2009 is not a leap year\n",
      "2010 is not a leap year\n",
      "2011 is not a leap year\n",
      "2012 is a leap year\n",
      "2013 is not a leap year\n",
      "2014 is not a leap year\n",
      "2015 is not a leap year\n",
      "2016 is a leap year\n",
      "2017 is not a leap year\n",
      "2018 is not a leap year\n",
      "2019 is not a leap year\n",
      "2020 is a leap year\n",
      "2021 is not a leap year\n",
      "2022 is not a leap year\n",
      "2023 is not a leap year\n",
      "2024 is a leap year\n",
      "2025 is not a leap year\n",
      "2026 is not a leap year\n",
      "2027 is not a leap year\n",
      "2028 is a leap year\n",
      "2029 is not a leap year\n",
      "2030 is not a leap year\n",
      "2031 is not a leap year\n",
      "2032 is a leap year\n",
      "2033 is not a leap year\n",
      "2034 is not a leap year\n",
      "2035 is not a leap year\n",
      "2036 is a leap year\n",
      "2037 is not a leap year\n",
      "2038 is not a leap year\n",
      "2039 is not a leap year\n",
      "2040 is a leap year\n",
      "2041 is not a leap year\n",
      "2042 is not a leap year\n",
      "2043 is not a leap year\n",
      "2044 is a leap year\n",
      "2045 is not a leap year\n",
      "2046 is not a leap year\n",
      "2047 is not a leap year\n",
      "2048 is a leap year\n",
      "2049 is not a leap year\n",
      "2050 is not a leap year\n",
      "2051 is not a leap year\n",
      "2052 is a leap year\n",
      "2053 is not a leap year\n",
      "2054 is not a leap year\n",
      "2055 is not a leap year\n",
      "2056 is a leap year\n",
      "2057 is not a leap year\n",
      "2058 is not a leap year\n",
      "2059 is not a leap year\n",
      "2060 is a leap year\n",
      "2061 is not a leap year\n",
      "2062 is not a leap year\n",
      "2063 is not a leap year\n",
      "2064 is a leap year\n",
      "2065 is not a leap year\n",
      "2066 is not a leap year\n",
      "2067 is not a leap year\n",
      "2068 is a leap year\n",
      "2069 is not a leap year\n",
      "2070 is not a leap year\n",
      "2071 is not a leap year\n",
      "2072 is a leap year\n",
      "2073 is not a leap year\n",
      "2074 is not a leap year\n",
      "2075 is not a leap year\n",
      "2076 is a leap year\n",
      "2077 is not a leap year\n",
      "2078 is not a leap year\n",
      "2079 is not a leap year\n",
      "2080 is a leap year\n",
      "2081 is not a leap year\n",
      "2082 is not a leap year\n",
      "2083 is not a leap year\n",
      "2084 is a leap year\n",
      "2085 is not a leap year\n",
      "2086 is not a leap year\n",
      "2087 is not a leap year\n",
      "2088 is a leap year\n",
      "2089 is not a leap year\n",
      "2090 is not a leap year\n",
      "2091 is not a leap year\n",
      "2092 is a leap year\n",
      "2093 is not a leap year\n",
      "2094 is not a leap year\n",
      "2095 is not a leap year\n",
      "2096 is a leap year\n",
      "2097 is not a leap year\n",
      "2098 is not a leap year\n",
      "2099 is not a leap year\n",
      "2100 is a leap year\n"
     ]
    }
   ],
   "source": [
    "#Program to find a leap year in a range of 1900-2100 including the extremeties\n",
    "for year in range(1900, 2101):\n",
    "    if year%4 == 0:\n",
    "        print(year, 'is a leap year');\n",
    "    else:\n",
    "        print(year, 'is not a leap year');"
   ]
  },
  {
   "cell_type": "code",
   "execution_count": null,
   "id": "e44a1a50-c233-4ee9-8f50-868e9054e472",
   "metadata": {},
   "outputs": [],
   "source": []
  }
 ],
 "metadata": {
  "kernelspec": {
   "display_name": "Python [conda env:base] *",
   "language": "python",
   "name": "conda-base-py"
  },
  "language_info": {
   "codemirror_mode": {
    "name": "ipython",
    "version": 3
   },
   "file_extension": ".py",
   "mimetype": "text/x-python",
   "name": "python",
   "nbconvert_exporter": "python",
   "pygments_lexer": "ipython3",
   "version": "3.12.7"
  }
 },
 "nbformat": 4,
 "nbformat_minor": 5
}
