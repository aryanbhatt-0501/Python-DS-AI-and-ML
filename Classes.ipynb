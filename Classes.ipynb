{
 "cells": [
  {
   "cell_type": "code",
   "execution_count": 27,
   "id": "fe74042c-d0f2-41b3-80bd-67d46235c465",
   "metadata": {},
   "outputs": [
    {
     "name": "stdout",
     "output_type": "stream",
     "text": [
      "Resale value is: 1012.0\n",
      "broom broom\n"
     ]
    }
   ],
   "source": [
    "class Vehicles:\n",
    "    def __init__(self, make, model, year):\n",
    "        self.make = make;\n",
    "        self.model = model;\n",
    "        self.year = year;\n",
    "\n",
    "    def resale_value(self):\n",
    "        print('Resale value is:', self.year/2);\n",
    "\n",
    "class Car(Vehicles):\n",
    "    def __init__(self, make, model, year, gears):\n",
    "        super().__init__(make, model, year)\n",
    "    def start(self):\n",
    "        print('broom broom');\n",
    "\n",
    "v = Car('BMW', 'M3', 2024, 7);\n",
    "v.resale_value();\n",
    "v.start();"
   ]
  },
  {
   "cell_type": "code",
   "execution_count": null,
   "id": "d70b4ffd-5304-4abd-8d72-fe6d8509b7b0",
   "metadata": {},
   "outputs": [],
   "source": []
  }
 ],
 "metadata": {
  "kernelspec": {
   "display_name": "Python [conda env:base] *",
   "language": "python",
   "name": "conda-base-py"
  },
  "language_info": {
   "codemirror_mode": {
    "name": "ipython",
    "version": 3
   },
   "file_extension": ".py",
   "mimetype": "text/x-python",
   "name": "python",
   "nbconvert_exporter": "python",
   "pygments_lexer": "ipython3",
   "version": "3.12.7"
  }
 },
 "nbformat": 4,
 "nbformat_minor": 5
}
