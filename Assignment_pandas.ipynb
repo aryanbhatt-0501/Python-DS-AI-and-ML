{
 "cells": [
  {
   "cell_type": "code",
   "execution_count": 2,
   "id": "277a6728-3ba3-4236-8f70-a5eb3b3be077",
   "metadata": {},
   "outputs": [],
   "source": [
    "import numpy as np;\n",
    "import pandas as pd;"
   ]
  },
  {
   "cell_type": "code",
   "execution_count": 4,
   "id": "5f2fc870-5003-4fac-8a56-0fffd8906119",
   "metadata": {},
   "outputs": [
    {
     "data": {
      "text/html": [
       "<div>\n",
       "<style scoped>\n",
       "    .dataframe tbody tr th:only-of-type {\n",
       "        vertical-align: middle;\n",
       "    }\n",
       "\n",
       "    .dataframe tbody tr th {\n",
       "        vertical-align: top;\n",
       "    }\n",
       "\n",
       "    .dataframe thead th {\n",
       "        text-align: right;\n",
       "    }\n",
       "</style>\n",
       "<table border=\"1\" class=\"dataframe\">\n",
       "  <thead>\n",
       "    <tr style=\"text-align: right;\">\n",
       "      <th></th>\n",
       "      <th>title</th>\n",
       "      <th>genre</th>\n",
       "      <th>rating</th>\n",
       "      <th>release_year</th>\n",
       "      <th>box_office</th>\n",
       "    </tr>\n",
       "  </thead>\n",
       "  <tbody>\n",
       "    <tr>\n",
       "      <th>0</th>\n",
       "      <td>Movie 1</td>\n",
       "      <td>Drama</td>\n",
       "      <td>3.5</td>\n",
       "      <td>2017</td>\n",
       "      <td>1203441917</td>\n",
       "    </tr>\n",
       "    <tr>\n",
       "      <th>1</th>\n",
       "      <td>Movie 2</td>\n",
       "      <td>Drama</td>\n",
       "      <td>4.5</td>\n",
       "      <td>2010</td>\n",
       "      <td>635116663</td>\n",
       "    </tr>\n",
       "    <tr>\n",
       "      <th>2</th>\n",
       "      <td>Movie 3</td>\n",
       "      <td>Thriller</td>\n",
       "      <td>5.8</td>\n",
       "      <td>2019</td>\n",
       "      <td>1541264226</td>\n",
       "    </tr>\n",
       "    <tr>\n",
       "      <th>3</th>\n",
       "      <td>Movie 4</td>\n",
       "      <td>Drama</td>\n",
       "      <td>8.6</td>\n",
       "      <td>2003</td>\n",
       "      <td>735554784</td>\n",
       "    </tr>\n",
       "    <tr>\n",
       "      <th>4</th>\n",
       "      <td>Movie 5</td>\n",
       "      <td>Comedy</td>\n",
       "      <td>6.3</td>\n",
       "      <td>2014</td>\n",
       "      <td>1396345053</td>\n",
       "    </tr>\n",
       "  </tbody>\n",
       "</table>\n",
       "</div>"
      ],
      "text/plain": [
       "     title     genre  rating  release_year  box_office\n",
       "0  Movie 1     Drama     3.5          2017  1203441917\n",
       "1  Movie 2     Drama     4.5          2010   635116663\n",
       "2  Movie 3  Thriller     5.8          2019  1541264226\n",
       "3  Movie 4     Drama     8.6          2003   735554784\n",
       "4  Movie 5    Comedy     6.3          2014  1396345053"
      ]
     },
     "execution_count": 4,
     "metadata": {},
     "output_type": "execute_result"
    }
   ],
   "source": [
    "df = pd.read_csv(\"Movie_Data.csv\");\n",
    "df.head()"
   ]
  },
  {
   "cell_type": "code",
   "execution_count": 84,
   "id": "2da7af15-a559-440e-88a3-a3b6c07e046c",
   "metadata": {},
   "outputs": [
    {
     "name": "stdout",
     "output_type": "stream",
     "text": [
      "       title   genre  rating  release_year\n",
      "19  Movie 20  Horror     1.2          2018\n"
     ]
    }
   ],
   "source": [
    "highest_collection = df[df[\"box_office\"] == df[\"box_office\"].max()].iloc[:,:4];\n",
    "print(highest_collection)"
   ]
  },
  {
   "cell_type": "code",
   "execution_count": 30,
   "id": "cbf46637-83ba-431f-aeff-cbb072642e51",
   "metadata": {},
   "outputs": [
    {
     "name": "stdout",
     "output_type": "stream",
     "text": [
      "5.6\n"
     ]
    }
   ],
   "source": [
    "average_rating = df['rating'].mean();\n",
    "print(f\"{average_rating:.1f}\");"
   ]
  },
  {
   "cell_type": "code",
   "execution_count": 64,
   "id": "9021fff4-7768-4937-9d7b-be5a083d9fcb",
   "metadata": {},
   "outputs": [
    {
     "name": "stdout",
     "output_type": "stream",
     "text": [
      "Average release year = 2012.5\n",
      "Most common genre = Comedy\n"
     ]
    }
   ],
   "source": [
    "median_release_year = df[\"release_year\"].median();\n",
    "mode_genres = df[\"genre\"].mode()[0];\n",
    "print(\"Average release year =\",median_release_year);\n",
    "print(\"Most common genre =\",mode_genres);"
   ]
  },
  {
   "cell_type": "code",
   "execution_count": 74,
   "id": "1b04feae-9315-4bb8-aee7-a5523be8dda1",
   "metadata": {},
   "outputs": [
    {
     "name": "stdout",
     "output_type": "stream",
     "text": [
      "3      Movie 4\n",
      "10    Movie 11\n",
      "11    Movie 12\n",
      "13    Movie 14\n",
      "16    Movie 17\n",
      "25    Movie 26\n",
      "30    Movie 31\n",
      "34    Movie 35\n",
      "35    Movie 36\n",
      "36    Movie 37\n",
      "39    Movie 40\n",
      "43    Movie 44\n",
      "44    Movie 45\n",
      "47    Movie 48\n",
      "48    Movie 49\n",
      "49    Movie 50\n",
      "Name: title, dtype: object\n"
     ]
    }
   ],
   "source": [
    "# Filter to show movies with a rating greater than 7\n",
    "filtered = df[df[\"rating\"] > 7].iloc[:, 0];\n",
    "print(filtered);"
   ]
  },
  {
   "cell_type": "code",
   "execution_count": 106,
   "id": "b085fd2e-8ef8-46ac-be10-6fee9f5c6747",
   "metadata": {},
   "outputs": [
    {
     "name": "stdout",
     "output_type": "stream",
     "text": [
      "       title     genre  rating  release_year  box_office\n",
      "19  Movie 20    Horror     1.2          2018  1971919840\n",
      "10  Movie 11    Comedy     9.0          2018  1956641510\n",
      "20  Movie 21    Action     1.4          2022  1930454283\n",
      "46  Movie 47     Drama     5.3          2017  1926080840\n",
      "43  Movie 44    Action     7.6          2016  1919952302\n",
      "16  Movie 17  Thriller     7.8          2020  1909403222\n",
      "25  Movie 26    Action     9.2          2018  1884776336\n",
      "29  Movie 30    Horror     3.5          2004  1883738397\n",
      "23  Movie 24    Comedy     6.5          2023  1831436334\n",
      "47  Movie 48     Drama     9.3          2013  1776382539\n"
     ]
    }
   ],
   "source": [
    "# Sort the movies by box office collection in descending order and display the top 10 movies\n",
    "top = df.sort_values(by=\"box_office\", ascending=False).head(10);\n",
    "print(top);"
   ]
  },
  {
   "cell_type": "code",
   "execution_count": 122,
   "id": "9013f896-8325-4ece-93db-ad6ddb34fff4",
   "metadata": {},
   "outputs": [
    {
     "data": {
      "text/html": [
       "<div>\n",
       "<style scoped>\n",
       "    .dataframe tbody tr th:only-of-type {\n",
       "        vertical-align: middle;\n",
       "    }\n",
       "\n",
       "    .dataframe tbody tr th {\n",
       "        vertical-align: top;\n",
       "    }\n",
       "\n",
       "    .dataframe thead th {\n",
       "        text-align: right;\n",
       "    }\n",
       "</style>\n",
       "<table border=\"1\" class=\"dataframe\">\n",
       "  <thead>\n",
       "    <tr style=\"text-align: right;\">\n",
       "      <th></th>\n",
       "      <th>title</th>\n",
       "      <th>genre</th>\n",
       "      <th>rating</th>\n",
       "      <th>release_year</th>\n",
       "      <th>box_office</th>\n",
       "      <th>profit %</th>\n",
       "    </tr>\n",
       "  </thead>\n",
       "  <tbody>\n",
       "    <tr>\n",
       "      <th>0</th>\n",
       "      <td>Movie 1</td>\n",
       "      <td>Drama</td>\n",
       "      <td>3.5</td>\n",
       "      <td>2017</td>\n",
       "      <td>1203441917</td>\n",
       "      <td>12.034419</td>\n",
       "    </tr>\n",
       "    <tr>\n",
       "      <th>1</th>\n",
       "      <td>Movie 2</td>\n",
       "      <td>Drama</td>\n",
       "      <td>4.5</td>\n",
       "      <td>2010</td>\n",
       "      <td>635116663</td>\n",
       "      <td>6.351167</td>\n",
       "    </tr>\n",
       "    <tr>\n",
       "      <th>2</th>\n",
       "      <td>Movie 3</td>\n",
       "      <td>Thriller</td>\n",
       "      <td>5.8</td>\n",
       "      <td>2019</td>\n",
       "      <td>1541264226</td>\n",
       "      <td>15.412642</td>\n",
       "    </tr>\n",
       "    <tr>\n",
       "      <th>3</th>\n",
       "      <td>Movie 4</td>\n",
       "      <td>Drama</td>\n",
       "      <td>8.6</td>\n",
       "      <td>2003</td>\n",
       "      <td>735554784</td>\n",
       "      <td>7.355548</td>\n",
       "    </tr>\n",
       "    <tr>\n",
       "      <th>4</th>\n",
       "      <td>Movie 5</td>\n",
       "      <td>Comedy</td>\n",
       "      <td>6.3</td>\n",
       "      <td>2014</td>\n",
       "      <td>1396345053</td>\n",
       "      <td>13.963451</td>\n",
       "    </tr>\n",
       "  </tbody>\n",
       "</table>\n",
       "</div>"
      ],
      "text/plain": [
       "     title     genre  rating  release_year  box_office   profit %\n",
       "0  Movie 1     Drama     3.5          2017  1203441917  12.034419\n",
       "1  Movie 2     Drama     4.5          2010   635116663   6.351167\n",
       "2  Movie 3  Thriller     5.8          2019  1541264226  15.412642\n",
       "3  Movie 4     Drama     8.6          2003   735554784   7.355548\n",
       "4  Movie 5    Comedy     6.3          2014  1396345053  13.963451"
      ]
     },
     "execution_count": 122,
     "metadata": {},
     "output_type": "execute_result"
    }
   ],
   "source": [
    "# Create a new column called Profitability which is calculated by box office earnings divided by 100 million.\n",
    "df[\"profit %\"] = df[\"box_office\"]/100000000;\n",
    "df.head()"
   ]
  },
  {
   "cell_type": "code",
   "execution_count": 128,
   "id": "579a23de-a27d-4c0f-95c0-291e41352aea",
   "metadata": {},
   "outputs": [
    {
     "name": "stdout",
     "output_type": "stream",
     "text": [
      "            rating    box_office\n",
      "genre                           \n",
      "Action    6.470000  1.239265e+09\n",
      "Comedy    5.658333  1.128515e+09\n",
      "Drama     5.200000  1.111896e+09\n",
      "Horror    5.837500  1.269256e+09\n",
      "Thriller  4.820000  1.031773e+09\n"
     ]
    }
   ],
   "source": [
    "# Group the dataset based on the genre and find the average ratings and average box office collections for each genre\n",
    "genre_based = df.groupby(\"genre\")[[\"rating\", \"box_office\"]].mean();\n",
    "print(genre_based);"
   ]
  },
  {
   "cell_type": "code",
   "execution_count": 134,
   "id": "1959377d-b353-4f54-8749-fd32e1043d34",
   "metadata": {},
   "outputs": [],
   "source": [
    "import matplotlib;\n",
    "import matplotlib.pyplot as plt;"
   ]
  },
  {
   "cell_type": "code",
   "execution_count": 136,
   "id": "91a71361-0e40-4dc3-93d7-a168a25bbbd7",
   "metadata": {},
   "outputs": [
    {
     "data": {
      "text/plain": [
       "'3.9.2'"
      ]
     },
     "execution_count": 136,
     "metadata": {},
     "output_type": "execute_result"
    }
   ],
   "source": [
    "matplotlib.__version__"
   ]
  },
  {
   "cell_type": "code",
   "execution_count": 160,
   "id": "dcbdc5da-dba8-4d58-8f40-e52c849d71c3",
   "metadata": {},
   "outputs": [
    {
     "data": {
      "image/png": "[encoded data removed]",
      "text/plain": [
       "<Figure size 640x480 with 1 Axes>"
      ]
     },
     "metadata": {},
     "output_type": "display_data"
    }
   ],
   "source": [
    "# Plot a line graph to show the trend of average rating over the years.\n",
    "avg_rating_per_year = df.groupby(\"release_year\")[\"rating\"].mean();\n",
    "# print(avg_rating_per_year);\n",
    "plt.plot(avg_rating_per_year.index, avg_rating_per_year.values, marker=\"o\", linestyle=\"-\");\n",
    "plt.grid(True);\n",
    "plt.xlabel(\"Years\");\n",
    "plt.ylabel(\"Average rating\");\n",
    "plt.title(\"Trend of average rating over the years\");\n",
    "plt.show();"
   ]
  }
 ],
 "metadata": {
  "kernelspec": {
   "display_name": "Python [conda env:base] *",
   "language": "python",
   "name": "conda-base-py"
  },
  "language_info": {
   "codemirror_mode": {
    "name": "ipython",
    "version": 3
   },
   "file_extension": ".py",
   "mimetype": "text/x-python",
   "name": "python",
   "nbconvert_exporter": "python",
   "pygments_lexer": "ipython3",
   "version": "3.12.7"
  }
 },
 "nbformat": 4,
 "nbformat_minor": 5
}
