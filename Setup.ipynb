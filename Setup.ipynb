{
 "cells": [
  {
   "cell_type": "code",
   "execution_count": 4,
   "id": "78b33b38-7daf-48aa-adcc-1f138ca72e99",
   "metadata": {},
   "outputs": [],
   "source": [
    "import numpy as np"
   ]
  },
  {
   "cell_type": "code",
   "execution_count": 57,
   "id": "c5696e34-ed52-4e5d-a252-aa22990827d5",
   "metadata": {},
   "outputs": [
    {
     "name": "stdout",
     "output_type": "stream",
     "text": [
      "[0 1 2 3 4 5 6 7 8 9]\n",
      "********************\n",
      "[2 3 4 5]\n",
      "********************\n",
      "[0 1 2]\n",
      "********************\n",
      "[5 6 7 8 9]\n",
      "********************\n",
      "[0 2 4 6 8]\n",
      "********************\n"
     ]
    }
   ],
   "source": [
    "array_1D = np.arange(10);\n",
    "print(array_1D);\n",
    "print('********************');\n",
    "# array_1D = np.array([0,1,2,3,4,5,6,7,8,9]);\n",
    "print(array_1D[2:6]);\n",
    "print('********************');\n",
    "print(array_1D[:3]);\n",
    "print('********************');\n",
    "print(array_1D[5:]);\n",
    "print('********************');\n",
    "print(array_1D[::2]);\n",
    "print('********************');"
   ]
  },
  {
   "cell_type": "code",
   "execution_count": 65,
   "id": "5de06079-dd71-4854-b1dc-e1de0f342877",
   "metadata": {},
   "outputs": [
    {
     "name": "stdout",
     "output_type": "stream",
     "text": [
      "[[1 2 3]\n",
      " [4 5 6]\n",
      " [7 8 9]]\n",
      "********************\n",
      "5\n",
      "********************\n",
      "[[2 3]\n",
      " [5 6]]\n",
      "********************\n",
      "[3 6 9]\n",
      "********************\n"
     ]
    }
   ],
   "source": [
    "array_2D = np.array([[1,2,3],[4,5,6],[7,8,9]]);\n",
    "print(array_2D);\n",
    "print('********************');\n",
    "print(array_2D[1,1]);\n",
    "print('********************');\n",
    "print(array_2D[:2,1:]);\n",
    "print('********************');\n",
    "print(array_2D[:,2]);\n",
    "print('********************');"
   ]
  },
  {
   "cell_type": "code",
   "execution_count": null,
   "id": "29bf3e2a-2718-49c4-b617-c84e99e78b17",
   "metadata": {},
   "outputs": [],
   "source": []
  }
 ],
 "metadata": {
  "kernelspec": {
   "display_name": "Python [conda env:base] *",
   "language": "python",
   "name": "conda-base-py"
  },
  "language_info": {
   "codemirror_mode": {
    "name": "ipython",
    "version": 3
   },
   "file_extension": ".py",
   "mimetype": "text/x-python",
   "name": "python",
   "nbconvert_exporter": "python",
   "pygments_lexer": "ipython3",
   "version": "3.12.7"
  }
 },
 "nbformat": 4,
 "nbformat_minor": 5
}
