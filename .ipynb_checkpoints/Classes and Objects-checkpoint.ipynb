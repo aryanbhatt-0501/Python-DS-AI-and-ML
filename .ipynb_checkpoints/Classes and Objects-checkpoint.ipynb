{
 "cells": [
  {
   "cell_type": "code",
   "execution_count": 48,
   "id": "384a12d8-99b2-44b1-be43-492e7b9244ac",
   "metadata": {},
   "outputs": [],
   "source": [
    "class Drone:\n",
    "    def __init__(self, model_name: str, battery_life: int, max_altitude: int):\n",
    "        self.model_name = model_name;\n",
    "        self.battery_life = battery_life;\n",
    "        self.max_altitude = max_altitude;\n",
    "\n",
    "    def get_specs(self):\n",
    "        return f'Model: {self.model_name}, Battery: {self.battery_life}%, Altitude: {self.max_altitude}m';"
   ]
  },
  {
   "cell_type": "code",
   "execution_count": 56,
   "id": "cd9cee58-7d1f-4c77-a3dc-16f12fdc4127",
   "metadata": {},
   "outputs": [
    {
     "name": "stdout",
     "output_type": "stream",
     "text": [
      "Model: Phantom, Battery: 80%, Altitude: 1000m\n"
     ]
    }
   ],
   "source": [
    "drone = Drone('Phantom', 80, 1000);\n",
    "print(drone.get_specs());"
   ]
  },
  {
   "cell_type": "code",
   "execution_count": 58,
   "id": "74ce85e6-9501-4aa7-aa8d-546c5864435a",
   "metadata": {},
   "outputs": [],
   "source": [
    "class Vehicle:\n",
    "    def __init__(self, name, speed):\n",
    "        self.name = name;\n",
    "        self.speed = speed;\n",
    "    def describe(self):\n",
    "        print(f'This is a {self.name} moving at {self.speed} km/h');"
   ]
  },
  {
   "cell_type": "code",
   "execution_count": 66,
   "id": "7f98ecbe-04a9-41bf-afb7-35dd46f20ff1",
   "metadata": {},
   "outputs": [],
   "source": [
    "class Car(Vehicle):\n",
    "    def __init__(self, name, speed, num_doors):\n",
    "        super().__init__(name, speed);\n",
    "        self.num_doors = num_doors;\n",
    "    def describe(self):\n",
    "        print(f'This is a {self.name} moving at {self.speed} km/h and has {self.num_doors} doors');"
   ]
  },
  {
   "cell_type": "code",
   "execution_count": 70,
   "id": "cd5514af-bf21-4b99-bde1-90ede1555ff0",
   "metadata": {},
   "outputs": [],
   "source": [
    "class Bike(Vehicle):\n",
    "    def __init__(self, name, speed, engine_type):\n",
    "        super().__init__(name, speed);\n",
    "        self.engine_type = engine_type;\n",
    "    def describe(self):\n",
    "        print(f'This is a {self.name} moving at a speed of {self.speed} km/h and has engine in it {self.engine_type}');"
   ]
  },
  {
   "cell_type": "code",
   "execution_count": 74,
   "id": "e6f6b709-cfdc-461f-8236-14b4c54b5672",
   "metadata": {},
   "outputs": [
    {
     "name": "stdout",
     "output_type": "stream",
     "text": [
      "This is a BMW moving at 119 km/h and has 4 doors\n",
      "This is a Royal Enfield - Hunter moving at a speed of 120 km/h and has engine in it 350cc\n"
     ]
    }
   ],
   "source": [
    "myCar = Car('BMW', 119, 4);\n",
    "myCar.describe();\n",
    "myBike = Bike('Royal Enfield - Hunter', 120, '350cc');\n",
    "myBike.describe();"
   ]
  }
 ],
 "metadata": {
  "kernelspec": {
   "display_name": "Python [conda env:base] *",
   "language": "python",
   "name": "conda-base-py"
  },
  "language_info": {
   "codemirror_mode": {
    "name": "ipython",
    "version": 3
   },
   "file_extension": ".py",
   "mimetype": "text/x-python",
   "name": "python",
   "nbconvert_exporter": "python",
   "pygments_lexer": "ipython3",
   "version": "3.12.7"
  }
 },
 "nbformat": 4,
 "nbformat_minor": 5
}
