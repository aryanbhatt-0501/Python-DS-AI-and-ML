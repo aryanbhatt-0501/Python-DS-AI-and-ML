{
 "cells": [
  {
   "cell_type": "code",
   "execution_count": 32,
   "id": "c41ceb7f-77da-4f4d-b354-0c9f03f8a441",
   "metadata": {},
   "outputs": [
    {
     "name": "stdout",
     "output_type": "stream",
     "text": [
      "[2, 3, 5, 7, 11, 13, 17, 19, 23, 29, 31, 37, 41, 43, 47, 53, 59, 61, 67, 71, 73, 79, 83, 89, 97]\n"
     ]
    }
   ],
   "source": [
    "primes = [];\n",
    "for i in range(2,101):\n",
    "    prime = True;\n",
    "    for j in range(2,int(i**0.5) + 1):\n",
    "        if (i%j == 0):\n",
    "            prime=False;\n",
    "            break;\n",
    "    if prime:\n",
    "        primes.append(i);\n",
    "print(primes)"
   ]
  },
  {
   "cell_type": "code",
   "execution_count": 54,
   "id": "599c1c36-21a9-45e8-81b2-778a0acd997a",
   "metadata": {},
   "outputs": [
    {
     "name": "stdout",
     "output_type": "stream",
     "text": [
      "ecneicS ataD\n"
     ]
    }
   ],
   "source": [
    "word = 'Data Science'\n",
    "result = '';\n",
    "for i in range(len(word) - 1, -1, -1):\n",
    "    result += word[i]\n",
    "print(result)"
   ]
  },
  {
   "cell_type": "code",
   "execution_count": 60,
   "id": "664956ed-2c4e-4d2e-938c-4e19e2bba807",
   "metadata": {},
   "outputs": [
    {
     "name": "stdin",
     "output_type": "stream",
     "text": [
      "Give a string aryan\n"
     ]
    },
    {
     "name": "stdout",
     "output_type": "stream",
     "text": [
      "1\n"
     ]
    }
   ],
   "source": [
    "inp = input('Give a string')\n",
    "all = [];\n",
    "for char in inp:\n",
    "    if (char not in 'my_string' and char not in all):\n",
    "        all.append(char);\n",
    "print(len(all))"
   ]
  },
  {
   "cell_type": "code",
   "execution_count": 68,
   "id": "4575dfe9-f750-4dd9-bfbf-dbfd971f1f3b",
   "metadata": {},
   "outputs": [],
   "source": [
    "def checkRange(n):\n",
    "    if (n >= 1000 and n <= 10000):\n",
    "        return True;\n",
    "    else:\n",
    "        return False;"
   ]
  },
  {
   "cell_type": "code",
   "execution_count": 76,
   "id": "0812f889-448e-4ac8-b53b-8d78e2e0b9ed",
   "metadata": {},
   "outputs": [
    {
     "name": "stdout",
     "output_type": "stream",
     "text": [
      "False\n",
      "True\n"
     ]
    }
   ],
   "source": [
    "print(checkRange(519))\n",
    "print(checkRange(5191))"
   ]
  },
  {
   "cell_type": "code",
   "execution_count": 78,
   "id": "95c2d7cb-3428-43d3-8e8a-9b313a917ebd",
   "metadata": {},
   "outputs": [
    {
     "name": "stdout",
     "output_type": "stream",
     "text": [
      "15 HAPPY!\n"
     ]
    }
   ],
   "source": [
    "pp=str(int(7+8.0));\n",
    "print(pp + ' happy'.upper() + '!');"
   ]
  },
  {
   "cell_type": "code",
   "execution_count": 80,
   "id": "c72415db-c2fe-4eaf-91aa-3ed15aa899c2",
   "metadata": {},
   "outputs": [
    {
     "name": "stdout",
     "output_type": "stream",
     "text": [
      "Python programs "
     ]
    }
   ],
   "source": [
    "print('Python programs', end=' ')"
   ]
  },
  {
   "cell_type": "code",
   "execution_count": 88,
   "id": "66c98178-bb07-4dc9-9142-20942dd90bb1",
   "metadata": {},
   "outputs": [
    {
     "name": "stdout",
     "output_type": "stream",
     "text": [
      "value of e is %0.1f 2.713\n"
     ]
    }
   ],
   "source": [
    "print('value of e is %0.1f', 2.713);"
   ]
  },
  {
   "cell_type": "code",
   "execution_count": 90,
   "id": "7d9f00f3-d7df-481d-999e-ad93d5095e45",
   "metadata": {},
   "outputs": [
    {
     "name": "stdout",
     "output_type": "stream",
     "text": [
      "value of e is 2.7\n"
     ]
    }
   ],
   "source": [
    "print('value of e is %0.1f' %2.713);"
   ]
  },
  {
   "cell_type": "code",
   "execution_count": 94,
   "id": "bd9697bc-9f78-40a6-9d82-18048283ba19",
   "metadata": {},
   "outputs": [
    {
     "name": "stdout",
     "output_type": "stream",
     "text": [
      "Programming in python version 3\n"
     ]
    }
   ],
   "source": [
    "print('Programming in python version %d' %3.5);"
   ]
  },
  {
   "cell_type": "code",
   "execution_count": 100,
   "id": "206f7d89-59da-4530-b6bf-ff7390ae4b37",
   "metadata": {},
   "outputs": [
    {
     "name": "stdout",
     "output_type": "stream",
     "text": [
      "Python 3.0 is also known as Python : 3000\n"
     ]
    }
   ],
   "source": [
    "print(\"%20s : %d\" % (\"Python 3.0 is also known as Python\", 3000.57));"
   ]
  },
  {
   "cell_type": "code",
   "execution_count": 102,
   "id": "49f76a92-b017-4e64-bfd8-051ed845bb51",
   "metadata": {},
   "outputs": [
    {
     "name": "stdout",
     "output_type": "stream",
     "text": [
      " 2   4    8\n"
     ]
    }
   ],
   "source": [
    "x = 2\n",
    "print(\"{0:2d} {1:3d} {2:4d}\".format(x, x*x, x*x*x));"
   ]
  }
 ],
 "metadata": {
  "kernelspec": {
   "display_name": "Python [conda env:base] *",
   "language": "python",
   "name": "conda-base-py"
  },
  "language_info": {
   "codemirror_mode": {
    "name": "ipython",
    "version": 3
   },
   "file_extension": ".py",
   "mimetype": "text/x-python",
   "name": "python",
   "nbconvert_exporter": "python",
   "pygments_lexer": "ipython3",
   "version": "3.12.7"
  }
 },
 "nbformat": 4,
 "nbformat_minor": 5
}
