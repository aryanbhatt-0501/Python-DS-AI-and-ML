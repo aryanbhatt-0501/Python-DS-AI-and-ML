{
 "cells": [
  {
   "cell_type": "code",
   "execution_count": 63,
   "id": "200ac888-46b7-4ebe-be97-1bdc39b9c1b6",
   "metadata": {},
   "outputs": [
    {
     "name": "stdin",
     "output_type": "stream",
     "text": [
      "Enter a number to check whether it is a palindrome or not:  123\n"
     ]
    },
    {
     "name": "stdout",
     "output_type": "stream",
     "text": [
      "False\n"
     ]
    }
   ],
   "source": [
    "## Write a program to check whether a number is a palindrome or not using input() from the user\n",
    "\n",
    "inp = input('Enter a number to check whether it is a palindrome or not: ');\n",
    "def is_pal(inp):\n",
    "    return str(inp) == str(inp)[::-1];\n",
    "print(is_pal(inp));"
   ]
  },
  {
   "cell_type": "code",
   "execution_count": 67,
   "id": "cfe4f24d-69ce-45d8-bf07-963396619eb7",
   "metadata": {},
   "outputs": [
    {
     "name": "stdin",
     "output_type": "stream",
     "text": [
      "Enter the value of n:  7\n"
     ]
    },
    {
     "name": "stdout",
     "output_type": "stream",
     "text": [
      "24.5\n"
     ]
    }
   ],
   "source": [
    "## Calculate the sum of the geometric progression (n^2/2)\n",
    "inp = int(input('Enter the value of n: '))\n",
    "def geom_sum(n):\n",
    "    return (n**2)/2;\n",
    "print(geom_sum(inp));"
   ]
  },
  {
   "cell_type": "code",
   "execution_count": 26,
   "id": "9c1c14e3-8e25-442a-84a9-c9ef152fb276",
   "metadata": {},
   "outputs": [
    {
     "name": "stdout",
     "output_type": "stream",
     "text": [
      "{'number_of_heads': 6, 'number_of_tails': 4}\n"
     ]
    }
   ],
   "source": [
    "## Program to flip a coin 10 times and count the number of heads and tails\n",
    "import random\n",
    "def count_toss():\n",
    "    heads = 0\n",
    "    tails = 0\n",
    "    for i in range(0,10):\n",
    "        toss = random.randint(1,2);\n",
    "        if toss == 1:\n",
    "            heads += 1;\n",
    "        else:\n",
    "            tails += 1;\n",
    "    return {'number_of_heads': heads, 'number_of_tails': tails};\n",
    "\n",
    "print(count_toss());"
   ]
  },
  {
   "cell_type": "code",
   "execution_count": 181,
   "id": "acc5ebb3-46b1-44dd-816d-e6dbb8e57434",
   "metadata": {},
   "outputs": [
    {
     "name": "stdout",
     "output_type": "stream",
     "text": [
      "Number of words: 9\n"
     ]
    }
   ],
   "source": [
    "## read a file and count the number of words in it\n",
    "filename = \"word_counter.txt\";\n",
    "\n",
    "file = open(filename, \"r\");\n",
    "content = file.read();\n",
    "file.close();\n",
    "\n",
    "words = content.split();\n",
    "word_count = len(words);\n",
    "print(\"Number of words:\", word_count)\n"
   ]
  },
  {
   "cell_type": "code",
   "execution_count": 10,
   "id": "43df6949-d47e-4422-bd51-ce42aec28c8a",
   "metadata": {},
   "outputs": [
    {
     "name": "stdout",
     "output_type": "stream",
     "text": [
      "{'emp_id': 1001, 'basic_salary': 15000, 'allowances': 6000, 'gross_pay': 21000, 'income_tax': 6300.0, 'net_salary': 14700.0}\n"
     ]
    }
   ],
   "source": [
    "## Calculate the income tax of an employee\n",
    "\n",
    "def calculate_income_tax(emp_id, basic, allowance):\n",
    "    gross_pay = basic + allowance;\n",
    "    income_tax = 0;\n",
    "    if gross_pay < 5000:\n",
    "        income_tax += 0;\n",
    "    elif gross_pay > 5000 and gross_pay <= 10000:\n",
    "        income_tax += (10/100)*gross_pay;\n",
    "    elif gross_pay > 10000 and gross_pay <= 20000:\n",
    "        income_tax += (20/100)*gross_pay;\n",
    "    else:\n",
    "        income_tax += (30/100)*gross_pay;\n",
    "    net_salary = gross_pay - income_tax;\n",
    "    return {\n",
    "        'emp_id': emp_id,\n",
    "        'basic_salary': basic,\n",
    "        'allowances': allowance,\n",
    "        'gross_pay': gross_pay,\n",
    "        'income_tax': income_tax,\n",
    "        'net_salary': net_salary,\n",
    "    };\n",
    "print(calculate_income_tax(1001, 15000, 6000));"
   ]
  },
  {
   "cell_type": "code",
   "execution_count": 16,
   "id": "622b1b5c-bf39-453e-af2c-2ba0ee881e10",
   "metadata": {},
   "outputs": [
    {
     "name": "stdout",
     "output_type": "stream",
     "text": [
      "1117.2\n",
      "1140.0\n"
     ]
    }
   ],
   "source": [
    "## Retail store management\n",
    "\n",
    "def calculate_discount(customer_id, bill_amount):\n",
    "    discount = 0;\n",
    "    if bill_amount >= 1000:\n",
    "        discount += (5/100)*bill_amount;\n",
    "    elif bill_amount >= 500 and bill_amount < 1000:\n",
    "        discount += (2/100)*bill_amount;\n",
    "    elif bill_amount > 0 and bill_amount < 500:\n",
    "        discount += (1/100)*bill_amount;\n",
    "    after_discount_price = bill_amount - discount;\n",
    "    final_price = after_discount_price;\n",
    "    if customer_id >= 101 and customer_id <= 1000:\n",
    "        final_price -= (2/100)*after_discount_price;\n",
    "    return final_price;\n",
    "print(calculate_discount(101, 1200));\n",
    "print(calculate_discount(100, 1200));"
   ]
  },
  {
   "cell_type": "code",
   "execution_count": null,
   "id": "b40bc05b-6737-45ac-ac80-49303661b2da",
   "metadata": {},
   "outputs": [],
   "source": []
  }
 ],
 "metadata": {
  "kernelspec": {
   "display_name": "Python [conda env:base] *",
   "language": "python",
   "name": "conda-base-py"
  },
  "language_info": {
   "codemirror_mode": {
    "name": "ipython",
    "version": 3
   },
   "file_extension": ".py",
   "mimetype": "text/x-python",
   "name": "python",
   "nbconvert_exporter": "python",
   "pygments_lexer": "ipython3",
   "version": "3.12.7"
  }
 },
 "nbformat": 4,
 "nbformat_minor": 5
}
