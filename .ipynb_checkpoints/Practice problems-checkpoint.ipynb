{
 "cells": [
  {
   "cell_type": "code",
   "execution_count": 2,
   "id": "6cc41b0a-5c52-411d-800f-4d4136f0c50d",
   "metadata": {},
   "outputs": [
    {
     "name": "stdin",
     "output_type": "stream",
     "text": [
      "Enter the number of Fibonacci required:  13\n"
     ]
    },
    {
     "data": {
      "text/plain": [
       "[0, 1, 1, 2, 3, 5, 8, 13, 21, 34, 55, 89, 144]"
      ]
     },
     "execution_count": 2,
     "metadata": {},
     "output_type": "execute_result"
    }
   ],
   "source": [
    "# Return n fibonacci numbers\n",
    "def fib():\n",
    "    n = int(input('Enter the number of Fibonacci required: '));\n",
    "    result = [];\n",
    "    if (n == 0):\n",
    "        return [];\n",
    "    if (n == 1):\n",
    "        return [0];\n",
    "    for i in range(n):\n",
    "        if (i == 0 or i == 1):\n",
    "            result.append(i);\n",
    "        else:\n",
    "            fib = result[i-2] + result[i-1];\n",
    "            result.append(fib);\n",
    "    return result;\n",
    "fib()"
   ]
  },
  {
   "cell_type": "code",
   "execution_count": 32,
   "id": "4e879145-f8fe-4591-b5d9-7308a1dd3394",
   "metadata": {},
   "outputs": [
    {
     "name": "stdout",
     "output_type": "stream",
     "text": [
      "{'random': [0, 1, 2, 4, 8, 8, 9, 9, 9, 10, 10, 11, 12, 13, 13, 17, 17, 17, 18, 18, 19, 19, 21, 22, 24, 24, 25, 29, 31, 33, 34, 34, 34, 35, 35, 36, 37, 37, 38, 39, 39, 40, 42, 42, 44, 44, 45, 46, 46, 47, 47, 51, 53, 56, 56, 57, 57, 59, 60, 61, 61, 64, 64, 64, 66, 67, 69, 70, 70, 71, 71, 73, 73, 73, 75, 76, 77, 77, 80, 80, 80, 81, 81, 82, 83, 84, 84, 84, 85, 85, 86, 86, 88, 88, 94, 94, 95, 96, 96, 98], 'median': 47.0, 'deviations': [47.0, 46.0, 45.0, 44.0, 43.0, 42.0, 41.0, 40.0, 39.0, 38.0, 37.0, 36.0, 35.0, 34.0, 33.0, 32.0, 31.0, 30.0, 29.0, 28.0, 27.0, 26.0, 25.0, 24.0, 23.0, 22.0, 21.0, 20.0, 19.0, 18.0, 17.0, 16.0, 15.0, 14.0, 13.0, 12.0, 11.0, 10.0, 9.0, 8.0, 7.0, 6.0, 5.0, 4.0, 3.0, 2.0, 1.0, 0.0, 1.0, 2.0, 3.0, 4.0, 5.0, 6.0, 7.0, 8.0, 9.0, 10.0, 11.0, 12.0, 13.0, 14.0, 15.0, 16.0, 17.0, 18.0, 19.0, 20.0, 21.0, 22.0, 23.0, 24.0, 25.0, 26.0, 27.0, 28.0, 29.0, 30.0, 31.0, 32.0, 33.0, 34.0, 35.0, 36.0, 37.0, 38.0, 39.0, 40.0, 41.0, 42.0, 43.0, 44.0, 45.0, 46.0, 47.0, 48.0, 49.0, 50.0, 51.0, 52.0]}\n"
     ]
    }
   ],
   "source": [
    "# Generate 100 random numbers and sort them using bubble sort. Also calculate the median and meadian absolute deviation\n",
    "import random;\n",
    "import math;\n",
    "def sortAndMedian():\n",
    "    result = {};\n",
    "    result['random'] = [random.randint(0,100) for i in range(100)];\n",
    "    n = result['random'];\n",
    "    for i in range(len(n) - 1):\n",
    "        for j in range(len(n) - i -1):\n",
    "            if n[j] > n[j + 1]:\n",
    "                n[j], n[j + 1] = n[j + 1], n[j];\n",
    "    # median\n",
    "    mid = len(n) // 2;\n",
    "    if (len(n) % 2) == 0:\n",
    "        result['median'] = (n[mid - 1] + n[mid]) / 2;\n",
    "    else:\n",
    "        result['median'] = n[mid];\n",
    "\n",
    "    # MAD\n",
    "    deviations = [abs(x - result['median']) for x in range(len(n))];\n",
    "    # deviations.sort();\n",
    "    result['deviations'] = deviations;\n",
    "    print(result);\n",
    "sortAndMedian()"
   ]
  },
  {
   "cell_type": "code",
   "execution_count": 6,
   "id": "299c20f7-7dc1-43cf-9700-212972e7bb00",
   "metadata": {},
   "outputs": [
    {
     "name": "stdin",
     "output_type": "stream",
     "text": [
      "Enter number of rows for first matrix:  2\n",
      "Enter number of columns for first matrix:  2\n",
      "Enter number of rows for second matrix:  2\n",
      "Enter number of columns for second matrix:  3\n"
     ]
    },
    {
     "name": "stdout",
     "output_type": "stream",
     "text": [
      "A = [[6, 5], [10, 1]]\n",
      "B = [[2, 3, 0], [4, 3, 7]]\n",
      "xA = [[60, 50], [100, 10]]\n",
      "yB = [[4, 6, 0], [8, 6, 14]]\n",
      "Addition not possible\n",
      "AB = [[640, 660, 700], [480, 660, 140]]\n",
      "A = [[60, 50], [100, 10]] A_Transpose = [[60, 100], [50, 10]]\n"
     ]
    }
   ],
   "source": [
    "# MATRIX operations\n",
    "import random;\n",
    "\n",
    "def matrices():\n",
    "    rowsA = int(input('Enter number of rows for first matrix: '));\n",
    "    colsA = int(input('Enter number of columns for first matrix: '));\n",
    "    rowsB = int(input('Enter number of rows for second matrix: '));\n",
    "    colsB = int(input('Enter number of columns for second matrix: '));\n",
    "    x = 10;\n",
    "    y = 2;\n",
    "\n",
    "    A = [[random.randint(0,10) for _ in range(colsA)] for _ in range(rowsA)];\n",
    "    print('A =', A);\n",
    "    B = [[random.randint(0,10) for _ in range(colsB)] for _ in range(rowsB)];\n",
    "    print('B =', B);\n",
    "    # x*A + y*B\n",
    "    \n",
    "    for i in range(len(A)):\n",
    "        for j in range(len(A[i])):\n",
    "            A[i][j] = A[i][j]*x;\n",
    "    print('xA =', A);\n",
    "    for i in range(len(B)):\n",
    "        for j in range(len(B[i])):\n",
    "            B[i][j] = B[i][j]*y;\n",
    "    print('yB =', B);\n",
    "\n",
    "    if rowsA == rowsB and colsA == colsB:\n",
    "        sum = [[A[i][j] + B[i][j] for j in range(colsA)] for i in range(rowsA)];\n",
    "        print('xA + yB =', sum);\n",
    "    else:\n",
    "        print('Addition not possible');\n",
    "\n",
    "    # AB\n",
    "    rows_A = len(A);\n",
    "    cols_A = len(A[0]);\n",
    "    rows_B = len(B);\n",
    "    cols_B = len(B[0]);\n",
    "    if cols_A != rows_B:\n",
    "        print('Multiplication not possible');\n",
    "    else:\n",
    "        ab = [[0 for _ in range(cols_B)] for _ in range(rows_A)];\n",
    "        for i in range(rows_A):\n",
    "            for j in range(cols_B):\n",
    "                for k in range(cols_A):\n",
    "                    ab[i][j] += A[i][k] * B[k][j];\n",
    "        print('AB =', ab);\n",
    "\n",
    "    # Transpose of A\n",
    "    A_transpose = [[A[j][i] for j in range(rowsA)] for i in range(colsA)];\n",
    "    print('A =', A, 'A_Transpose =', A_transpose);\n",
    "matrices();"
   ]
  },
  {
   "cell_type": "code",
   "execution_count": 8,
   "id": "d186de60-9693-46ee-a69b-be6ff3ba5b5d",
   "metadata": {},
   "outputs": [
    {
     "name": "stdout",
     "output_type": "stream",
     "text": [
      "[8, 17, 10]\n",
      "[8, 17, 10, 4, 5, 6]\n",
      "[17, 10, 4, 5, 6]\n",
      "[4, 5, 6, 10, 17]\n",
      "[8, 10, 12, 20, 34]\n",
      "[4, 5, 6, 25, 10, 17]\n"
     ]
    }
   ],
   "source": [
    "# Problem statement 6\n",
    "lst = [8,9,10];\n",
    "lst[1] = 17;\n",
    "print(lst)\n",
    "lst.extend([4,5,6]);\n",
    "print(lst);\n",
    "lst.pop(0);\n",
    "print(lst);\n",
    "lst.sort();\n",
    "print(lst);\n",
    "twice = [2*x for x in lst];\n",
    "print(twice);\n",
    "lst.insert(3, 25);\n",
    "print(lst);"
   ]
  },
  {
   "cell_type": "code",
   "execution_count": 30,
   "id": "ea239925-9276-46ed-b356-152dc5023225",
   "metadata": {},
   "outputs": [
    {
     "name": "stdin",
     "output_type": "stream",
     "text": [
      "Enter the size of the square matrix:  3\n"
     ]
    },
    {
     "name": "stdout",
     "output_type": "stream",
     "text": [
      "[[0, 6, 8], [6, 2, 0], [8, 0, 8]]\n"
     ]
    }
   ],
   "source": [
    "# Program to generate symmetric matrix\n",
    "import random;\n",
    "def symmetric():\n",
    "    n = int(input('Enter the size of the square matrix: '));\n",
    "    dummy = [[0 for _ in range(n)] for _ in range(n)];\n",
    "    for i in range(n):\n",
    "        for j in range(i, n):\n",
    "            dummy[i][j] = random.randint(0,10)\n",
    "            dummy[j][i] = dummy[i][j];\n",
    "    print(dummy);\n",
    "symmetric();"
   ]
  },
  {
   "cell_type": "code",
   "execution_count": 36,
   "id": "af9d785b-005e-470f-910e-7e0d9ae69598",
   "metadata": {},
   "outputs": [
    {
     "name": "stdin",
     "output_type": "stream",
     "text": [
      "Enter the size for the arrays:  4\n"
     ]
    },
    {
     "name": "stdout",
     "output_type": "stream",
     "text": [
      "[0.4532848473705873, -0.3289995581631151, 0.670057112828675, 0.27664491699786686]\n"
     ]
    }
   ],
   "source": [
    "# Circular shift\n",
    "import random;\n",
    "def circularShifts():\n",
    "    n = int(input('Enter the size for the arrays: '));\n",
    "    a = [random.uniform(-1, 1) for _ in range(n)];\n",
    "    print(a);\n",
    "circularShifts();"
   ]
  },
  {
   "cell_type": "code",
   "execution_count": null,
   "id": "62251f49-5085-4f09-bdb4-469a7314aeda",
   "metadata": {},
   "outputs": [],
   "source": []
  }
 ],
 "metadata": {
  "kernelspec": {
   "display_name": "Python [conda env:base] *",
   "language": "python",
   "name": "conda-base-py"
  },
  "language_info": {
   "codemirror_mode": {
    "name": "ipython",
    "version": 3
   },
   "file_extension": ".py",
   "mimetype": "text/x-python",
   "name": "python",
   "nbconvert_exporter": "python",
   "pygments_lexer": "ipython3",
   "version": "3.12.7"
  }
 },
 "nbformat": 4,
 "nbformat_minor": 5
}
