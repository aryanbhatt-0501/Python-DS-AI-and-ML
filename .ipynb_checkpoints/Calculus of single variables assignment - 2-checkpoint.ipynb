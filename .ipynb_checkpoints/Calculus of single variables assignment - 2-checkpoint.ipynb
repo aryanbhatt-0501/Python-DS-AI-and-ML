{
 "cells": [
  {
   "cell_type": "code",
   "execution_count": 104,
   "id": "87bf6eca-a55f-42e8-a615-8e94e39a1a4c",
   "metadata": {},
   "outputs": [
    {
     "name": "stdin",
     "output_type": "stream",
     "text": [
      "Enter the upper limit for integration:  5\n",
      "Enter the lower limit for integration:  0\n",
      "Enter the value of n:  10\n"
     ]
    },
    {
     "name": "stdout",
     "output_type": "stream",
     "text": [
      "h =  0.5\n",
      "19.40323953905199\n"
     ]
    }
   ],
   "source": [
    "# Area under the curve f(x) = sqrt(25 - x^2);\n",
    "import numpy as np;\n",
    "def f(x):\n",
    "    return np.sqrt(25 - x**2);\n",
    "\n",
    "a = int(input('Enter the upper limit for integration: '));\n",
    "b = int(input('Enter the lower limit for integration: '));\n",
    "n = int(input('Enter the value of n: '));\n",
    "h = (a - b)/n;\n",
    "print('h = ',h);\n",
    "s = 0;\n",
    "for i in range(n):\n",
    "    x_i = b + i*h;\n",
    "    x_i2 = x_i + h;\n",
    "    s += f(x_i) + f(x_i2);\n",
    "result = h/2*(s);\n",
    "print(result);"
   ]
  },
  {
   "cell_type": "code",
   "execution_count": 108,
   "id": "54df93bd-0100-44ea-b267-01cd14939c21",
   "metadata": {},
   "outputs": [
    {
     "name": "stderr",
     "output_type": "stream",
     "text": [
      "Matplotlib is building the font cache; this may take a moment.\n"
     ]
    },
    {
     "name": "stdout",
     "output_type": "stream",
     "text": [
      "h = 1.00000, Ah = 18.981555, Error = 0.653399\n",
      "h = 0.50000, Ah = 19.403240, Error = 0.231715\n",
      "h = 0.25000, Ah = 19.552905, Error = 0.082049\n",
      "h = 0.12500, Ah = 19.605923, Error = 0.029031\n",
      "h = 0.06250, Ah = 19.624686, Error = 0.010268\n",
      "h = 0.03125, Ah = 19.631323, Error = 0.003631\n",
      "h = 0.01562, Ah = 19.633670, Error = 0.001284\n",
      "h = 0.00781, Ah = 19.634500, Error = 0.000454\n",
      "h = 0.00391, Ah = 19.634794, Error = 0.000160\n",
      "h = 0.00195, Ah = 19.634897, Error = 0.000057\n"
     ]
    }
   ],
   "source": [
    "#AUC with approximation error\n",
    "import numpy as np;\n",
    "import matplotlib.pyplot as plt;\n",
    "\n",
    "def f(x):\n",
    "    return np.sqrt(25 - x**2);\n",
    "\n",
    "actual_area = (np.pi * 25) / 4;\n",
    "a, b = 0, 5;\n",
    "h_values = [];\n",
    "errors = [];\n",
    "h = 1;\n",
    "\n",
    "while h > 0.001:\n",
    "    n = int((b-a)/h);\n",
    "    xi = np.linspace(a, b, n+1);\n",
    "    yi = f(xi);\n",
    "\n",
    "    Ah = (h/2)* np.sum(yi[:-1] + yi[1:]);\n",
    "\n",
    "    error = abs(actual_area - Ah);\n",
    "\n",
    "    h_values.append(h);\n",
    "    errors.append(error);\n",
    "    print(f\"h = {h:.5f}, Ah = {Ah:.6f}, Error = {error:.6f}\");\n",
    "    h /= 2;"
   ]
  }
 ],
 "metadata": {
  "kernelspec": {
   "display_name": "Python [conda env:base] *",
   "language": "python",
   "name": "conda-base-py"
  },
  "language_info": {
   "codemirror_mode": {
    "name": "ipython",
    "version": 3
   },
   "file_extension": ".py",
   "mimetype": "text/x-python",
   "name": "python",
   "nbconvert_exporter": "python",
   "pygments_lexer": "ipython3",
   "version": "3.12.7"
  }
 },
 "nbformat": 4,
 "nbformat_minor": 5
}
